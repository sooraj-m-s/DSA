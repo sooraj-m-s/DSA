{
 "cells": [
  {
   "cell_type": "markdown",
   "metadata": {},
   "source": [
    "## Selection Sort"
   ]
  },
  {
   "cell_type": "code",
   "execution_count": null,
   "metadata": {},
   "outputs": [],
   "source": [
    "li = [56, 3, 0, 4, 2, 78, 6, 0]\n",
    "print(f'Unsorted array {li}')\n",
    "\n",
    "for i in range(len(li)-1):\n",
    "    min_ind = i\n",
    "    for j in range(i+1, len(li)):\n",
    "        if li[min_ind] > li[j]:\n",
    "            min_ind = j\n",
    "    li[i], li[min_ind] = li[min_ind], li[i]\n",
    "\n",
    "print(f'After sorting, ascending order {li}')\n"
   ]
  },
  {
   "cell_type": "markdown",
   "metadata": {},
   "source": [
    "## Bubble Sort"
   ]
  },
  {
   "cell_type": "code",
   "execution_count": null,
   "metadata": {},
   "outputs": [],
   "source": [
    "li = [56, 3, 0, 4, 2, 78, 6, 0]\n",
    "print(f'Unsorted array {li}')\n",
    "\n",
    "for i in range(len(li)-1):\n",
    "    for j in range(len(li)-1):\n",
    "        if li[j] > li[j+1]:\n",
    "            li[j], li[j+1] = li[j+1], li[j]\n",
    "\n",
    "print(f'After sorting, ascending order {li}')\n"
   ]
  },
  {
   "cell_type": "markdown",
   "metadata": {},
   "source": [
    "## Merge Sort"
   ]
  },
  {
   "cell_type": "code",
   "execution_count": null,
   "metadata": {},
   "outputs": [],
   "source": [
    "def merge_sort(li):\n",
    "    if len(li) > 1:\n",
    "        mid = len(li) // 2\n",
    "        left_side = li[:mid]\n",
    "        right_side = li[mid:]\n",
    "        merge_sort(left_side)\n",
    "        merge_sort(right_side)\n",
    "        i = 0\n",
    "        j = 0\n",
    "        k = 0\n",
    "        while len(left_side) > i  and len(right_side) > j:\n",
    "            if left_side[i] < right_side[j]:\n",
    "                li[k] = left_side[i]\n",
    "                i += 1\n",
    "                k += 1\n",
    "            else:\n",
    "                li[k] = right_side[j]\n",
    "                j += 1\n",
    "                k += 1\n",
    "        while len(left_side) > i:\n",
    "            li[k] = left_side[i]\n",
    "            i += 1\n",
    "            k += 1\n",
    "        while len(right_side) > j:\n",
    "            li[k] = right_side[j]\n",
    "            j += 1\n",
    "            k += 1\n",
    "\n",
    "\n",
    "li = [20, 1, 50, 40, 10]\n",
    "print(f'Unsorted array {li}')\n",
    "merge_sort(li)\n",
    "print(f'After sorting, ascending order {li}')"
   ]
  },
  {
   "cell_type": "markdown",
   "metadata": {},
   "source": [
    "## Insertion Sort"
   ]
  },
  {
   "cell_type": "code",
   "execution_count": null,
   "metadata": {},
   "outputs": [],
   "source": [
    "def insertion_sort(li):\n",
    "    for i in range(1, len(li)):\n",
    "        crnt = li[i]\n",
    "        pos = i\n",
    "        while crnt > li[pos-1] and pos > 0:\n",
    "            li[pos] =  li[pos-1]\n",
    "            pos -= 1\n",
    "        li[pos] = crnt\n",
    "\n",
    "\n",
    "li = [2, 4, 3, 5, 1]\n",
    "insertion_sort(li)\n",
    "print(f'Second largest element in the array is {li[1]}')\n"
   ]
  },
  {
   "cell_type": "markdown",
   "metadata": {},
   "source": [
    "## Quick Sort"
   ]
  },
  {
   "cell_type": "code",
   "execution_count": null,
   "metadata": {},
   "outputs": [],
   "source": []
  }
 ],
 "metadata": {
  "kernelspec": {
   "display_name": "my_venv",
   "language": "python",
   "name": "python3"
  },
  "language_info": {
   "codemirror_mode": {
    "name": "ipython",
    "version": 3
   },
   "file_extension": ".py",
   "mimetype": "text/x-python",
   "name": "python",
   "nbconvert_exporter": "python",
   "pygments_lexer": "ipython3",
   "version": "3.12.3"
  }
 },
 "nbformat": 4,
 "nbformat_minor": 2
}
