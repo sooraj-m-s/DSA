{
 "cells": [
  {
   "cell_type": "markdown",
   "metadata": {},
   "source": [
    "## Selection Sort"
   ]
  },
  {
   "cell_type": "code",
   "execution_count": null,
   "metadata": {},
   "outputs": [],
   "source": [
    "li = [56, 3, 0, 4, 2, 78, 6, 0]\n",
    "print(f'Unsorted array {li}')\n",
    "\n",
    "for i in range(len(li)-1):\n",
    "    min_ind = i\n",
    "    for j in range(i+1, len(li)):\n",
    "        if li[min_ind] > li[j]:\n",
    "            min_ind = j\n",
    "    li[i], li[min_ind] = li[min_ind], li[i]\n",
    "\n",
    "print(f'After sorting, ascending order {li}')\n"
   ]
  },
  {
   "cell_type": "markdown",
   "metadata": {},
   "source": [
    "## Bubble Sort"
   ]
  },
  {
   "cell_type": "code",
   "execution_count": null,
   "metadata": {},
   "outputs": [],
   "source": [
    "li = [56, 3, 0, 4, 2, 78, 6, 0]\n",
    "print(f'Unsorted array {li}')\n",
    "\n",
    "for i in range(len(li)-1):\n",
    "    for j in range(len(li)-1):\n",
    "        if li[j] > li[j+1]:\n",
    "            li[j], li[j+1] = li[j+1], li[j]\n",
    "\n",
    "print(f'After sorting, ascending order {li}')\n"
   ]
  },
  {
   "cell_type": "markdown",
   "metadata": {},
   "source": [
    "## Merge Sort"
   ]
  },
  {
   "cell_type": "code",
   "execution_count": null,
   "metadata": {},
   "outputs": [
    {
     "name": "stdout",
     "output_type": "stream",
     "text": [
      "Unsorted array [20, 1, 50, 40, 10]\n",
      "After sorting, ascending order [1, 10, 20, 40, 50]\n"
     ]
    }
   ],
   "source": [
    "def merge_sort(li):\n",
    "    if len(li) > 1:\n",
    "        mid = len(li) // 2\n",
    "        left_side = li[:mid]\n",
    "        right_side = li[mid:]\n",
    "        merge_sort(left_side)\n",
    "        merge_sort(right_side)\n",
    "        left, right, main = 0, 0, 0\n",
    "        while len(left_side) > left  and len(right_side) > right:\n",
    "            if left_side[left] < right_side[right]:\n",
    "                li[main] = left_side[left]\n",
    "                left += 1\n",
    "                main += 1\n",
    "            else:\n",
    "                li[main] = right_side[right]\n",
    "                right += 1\n",
    "                main += 1\n",
    "        while len(left_side) > left:\n",
    "            li[main] = left_side[left]\n",
    "            left += 1\n",
    "            main += 1\n",
    "        while len(right_side) > right:\n",
    "            li[main] = right_side[right]\n",
    "            right += 1\n",
    "            main += 1\n",
    "\n",
    "\n",
    "li = [20, 1, 50, 40, 10]\n",
    "print(f'Unsorted array {li}')\n",
    "merge_sort(li)\n",
    "print(f'After sorting, ascending order {li}')"
   ]
  },
  {
   "cell_type": "markdown",
   "metadata": {},
   "source": [
    "## Insertion Sort"
   ]
  },
  {
   "cell_type": "code",
   "execution_count": null,
   "metadata": {},
   "outputs": [],
   "source": [
    "def insertion_sort(li):\n",
    "    for i in range(1, len(li)):\n",
    "        crnt = li[i]\n",
    "        pos = i\n",
    "        while crnt < li[pos-1] and pos > 0:\n",
    "            li[pos] =  li[pos-1]\n",
    "            pos -= 1\n",
    "        li[pos] = crnt\n",
    "\n",
    "\n",
    "li = [2, 4, 3, 5, 1]\n",
    "insertion_sort(li)\n",
    "print(f'After sorting, ascending order {li}')\n"
   ]
  },
  {
   "cell_type": "markdown",
   "metadata": {},
   "source": [
    "## Quick Sort"
   ]
  },
  {
   "cell_type": "code",
   "execution_count": null,
   "metadata": {},
   "outputs": [],
   "source": [
    "def get_pivot(li, first, last):\n",
    "    pivot = li[first]\n",
    "    left = first + 1\n",
    "    right = last\n",
    "    while True:\n",
    "        while left <= right and li[left] <= pivot:\n",
    "            left += 1\n",
    "        while left <= right and li[right] >= pivot:\n",
    "            right -= 1\n",
    "        if left > right:\n",
    "            break\n",
    "        li[left], li[right] = li[right], li[left]\n",
    "    li[first], li[right] = li[right], li[first]\n",
    "    return right\n",
    "\n",
    "def quick_sort(li, first, last):\n",
    "    if first < last:\n",
    "        p = get_pivot(li, first, last)\n",
    "        quick_sort(li, first, p-1)\n",
    "        quick_sort(li, p+1, last)\n",
    "\n",
    "\n",
    "li = [23, 55, 33, 99, 1]\n",
    "quick_sort(li, 0, len(li)-1)\n",
    "print(f'After sorting, ascending order {li}')\n"
   ]
  }
 ],
 "metadata": {
  "kernelspec": {
   "display_name": "my_env",
   "language": "python",
   "name": "python3"
  },
  "language_info": {
   "codemirror_mode": {
    "name": "ipython",
    "version": 3
   },
   "file_extension": ".py",
   "mimetype": "text/x-python",
   "name": "python",
   "nbconvert_exporter": "python",
   "pygments_lexer": "ipython3",
   "version": "3.13.2"
  }
 },
 "nbformat": 4,
 "nbformat_minor": 2
}
